{
 "cells": [
  {
   "cell_type": "markdown",
   "id": "6923eb2c",
   "metadata": {},
   "source": [
    "# Risk Probabilities"
   ]
  },
  {
   "cell_type": "markdown",
   "id": "27908e3c",
   "metadata": {},
   "source": [
    "##### Import necessary libraries"
   ]
  },
  {
   "cell_type": "code",
   "execution_count": 197,
   "id": "c35903e2",
   "metadata": {},
   "outputs": [],
   "source": [
    "from itertools import product\n",
    "import numpy as np\n",
    "import pandas as pd\n",
    "pd.options.display.float_format = '{:.1%}'.format"
   ]
  },
  {
   "cell_type": "markdown",
   "id": "649e00c8",
   "metadata": {},
   "source": [
    "##### Set up array containing all possible permutations"
   ]
  },
  {
   "cell_type": "code",
   "execution_count": 198,
   "id": "ed92d2fe",
   "metadata": {},
   "outputs": [],
   "source": [
    "arr = np.array(list(product([1,2,3,4,5,6], [1,2,3,4,5,6], [1,2,3,4,5,6], [1,2,3,4,5,6], [1,2,3,4,5,6] ))).transpose()"
   ]
  },
  {
   "cell_type": "markdown",
   "id": "37b9346b",
   "metadata": {},
   "source": [
    "### Soldier 1"
   ]
  },
  {
   "cell_type": "markdown",
   "id": "e342c747",
   "metadata": {},
   "source": [
    "Count permutations of defense and attack maxima"
   ]
  },
  {
   "cell_type": "code",
   "execution_count": 199,
   "id": "26f6dd6f",
   "metadata": {},
   "outputs": [],
   "source": [
    "defense_maxes = pd.Series(np.max(arr[3:],axis=0)).value_counts().sort_index()\n",
    "attack_maxes = pd.Series(np.max(arr[:3],axis=0)).value_counts().sort_index()\n",
    "probability_df = pd.DataFrame(defense_maxes.rename('Defense Probability')/sum(defense_maxes))\n",
    "probability_df.index.name = 'Highest Roll'\n",
    "probability_df['Attack Probability'] = attack_maxes/sum(attack_maxes)\n"
   ]
  },
  {
   "cell_type": "code",
   "execution_count": 500,
   "id": "fc8f373a",
   "metadata": {},
   "outputs": [
    {
     "data": {
      "text/html": [
       "<div>\n",
       "<style scoped>\n",
       "    .dataframe tbody tr th:only-of-type {\n",
       "        vertical-align: middle;\n",
       "    }\n",
       "\n",
       "    .dataframe tbody tr th {\n",
       "        vertical-align: top;\n",
       "    }\n",
       "\n",
       "    .dataframe thead th {\n",
       "        text-align: right;\n",
       "    }\n",
       "</style>\n",
       "<table border=\"1\" class=\"dataframe\">\n",
       "  <thead>\n",
       "    <tr style=\"text-align: right;\">\n",
       "      <th></th>\n",
       "      <th>Defense Probability</th>\n",
       "      <th>Attack Probability</th>\n",
       "    </tr>\n",
       "    <tr>\n",
       "      <th>Highest Roll</th>\n",
       "      <th></th>\n",
       "      <th></th>\n",
       "    </tr>\n",
       "  </thead>\n",
       "  <tbody>\n",
       "    <tr>\n",
       "      <th>1</th>\n",
       "      <td>2.78%</td>\n",
       "      <td>0.46%</td>\n",
       "    </tr>\n",
       "    <tr>\n",
       "      <th>2</th>\n",
       "      <td>8.33%</td>\n",
       "      <td>3.24%</td>\n",
       "    </tr>\n",
       "    <tr>\n",
       "      <th>3</th>\n",
       "      <td>13.89%</td>\n",
       "      <td>8.80%</td>\n",
       "    </tr>\n",
       "    <tr>\n",
       "      <th>4</th>\n",
       "      <td>19.44%</td>\n",
       "      <td>17.13%</td>\n",
       "    </tr>\n",
       "    <tr>\n",
       "      <th>5</th>\n",
       "      <td>25.00%</td>\n",
       "      <td>28.24%</td>\n",
       "    </tr>\n",
       "    <tr>\n",
       "      <th>6</th>\n",
       "      <td>30.56%</td>\n",
       "      <td>42.13%</td>\n",
       "    </tr>\n",
       "  </tbody>\n",
       "</table>\n",
       "</div>"
      ],
      "text/plain": [
       "              Defense Probability  Attack Probability\n",
       "Highest Roll                                         \n",
       "1                           2.78%               0.46%\n",
       "2                           8.33%               3.24%\n",
       "3                          13.89%               8.80%\n",
       "4                          19.44%              17.13%\n",
       "5                          25.00%              28.24%\n",
       "6                          30.56%              42.13%"
      ]
     },
     "execution_count": 500,
     "metadata": {},
     "output_type": "execute_result"
    }
   ],
   "source": [
    "probability_df"
   ]
  },
  {
   "cell_type": "markdown",
   "id": "e8ae757d",
   "metadata": {},
   "source": [
    "##### Count number of defense wins, ties and attack wins for each possible high defense roll"
   ]
  },
  {
   "cell_type": "code",
   "execution_count": 415,
   "id": "56decbff",
   "metadata": {},
   "outputs": [],
   "source": [
    "permutations_df = pd.DataFrame(columns = ['Highest Defense Roll', 'Permutations', 'Defense Wins', 'Ties', 'Attack Wins'])\n",
    "for high_roll in range(1,7):\n",
    "    row = []\n",
    "    row.append(high_roll)\n",
    "    #permutations\n",
    "    row.append(arr[:,np.where(np.max(arr[3:],axis=0)==high_roll)][:,0,:].shape[1])\n",
    "    #defense\n",
    "    row.append(np.sum(arr[:,np.where(np.max(arr[3:],axis=0)==high_roll)][:,0,:][:3].max(axis=0) < high_roll))\n",
    "    #tie\n",
    "    row.append(np.sum(arr[:,np.where(np.max(arr[3:],axis=0)==high_roll)][:,0,:][:3].max(axis=0) == high_roll))\n",
    "    #attack\n",
    "    row.append(np.sum(arr[:,np.where(np.max(arr[3:],axis=0)==high_roll)][:,0,:][:3].max(axis=0) > high_roll))\n",
    "    \n",
    "    permutations_df.loc[-1] = row\n",
    "    permutations_df.index = permutations_df.index + 1"
   ]
  },
  {
   "cell_type": "code",
   "execution_count": 417,
   "id": "7625aa90",
   "metadata": {},
   "outputs": [
    {
     "data": {
      "text/html": [
       "<div>\n",
       "<style scoped>\n",
       "    .dataframe tbody tr th:only-of-type {\n",
       "        vertical-align: middle;\n",
       "    }\n",
       "\n",
       "    .dataframe tbody tr th {\n",
       "        vertical-align: top;\n",
       "    }\n",
       "\n",
       "    .dataframe thead th {\n",
       "        text-align: right;\n",
       "    }\n",
       "</style>\n",
       "<table border=\"1\" class=\"dataframe\">\n",
       "  <thead>\n",
       "    <tr style=\"text-align: right;\">\n",
       "      <th></th>\n",
       "      <th>Permutations</th>\n",
       "      <th>Defense Wins</th>\n",
       "      <th>Ties</th>\n",
       "      <th>Attack Wins</th>\n",
       "    </tr>\n",
       "    <tr>\n",
       "      <th>Highest Defense Roll</th>\n",
       "      <th></th>\n",
       "      <th></th>\n",
       "      <th></th>\n",
       "      <th></th>\n",
       "    </tr>\n",
       "  </thead>\n",
       "  <tbody>\n",
       "    <tr>\n",
       "      <th>1</th>\n",
       "      <td>216</td>\n",
       "      <td>0</td>\n",
       "      <td>1</td>\n",
       "      <td>215</td>\n",
       "    </tr>\n",
       "    <tr>\n",
       "      <th>2</th>\n",
       "      <td>648</td>\n",
       "      <td>3</td>\n",
       "      <td>21</td>\n",
       "      <td>624</td>\n",
       "    </tr>\n",
       "    <tr>\n",
       "      <th>3</th>\n",
       "      <td>1080</td>\n",
       "      <td>40</td>\n",
       "      <td>95</td>\n",
       "      <td>945</td>\n",
       "    </tr>\n",
       "    <tr>\n",
       "      <th>4</th>\n",
       "      <td>1512</td>\n",
       "      <td>189</td>\n",
       "      <td>259</td>\n",
       "      <td>1064</td>\n",
       "    </tr>\n",
       "    <tr>\n",
       "      <th>5</th>\n",
       "      <td>1944</td>\n",
       "      <td>576</td>\n",
       "      <td>549</td>\n",
       "      <td>819</td>\n",
       "    </tr>\n",
       "    <tr>\n",
       "      <th>6</th>\n",
       "      <td>2376</td>\n",
       "      <td>1375</td>\n",
       "      <td>1001</td>\n",
       "      <td>0</td>\n",
       "    </tr>\n",
       "  </tbody>\n",
       "</table>\n",
       "</div>"
      ],
      "text/plain": [
       "                      Permutations  Defense Wins  Ties  Attack Wins\n",
       "Highest Defense Roll                                               \n",
       "1                              216             0     1          215\n",
       "2                              648             3    21          624\n",
       "3                             1080            40    95          945\n",
       "4                             1512           189   259         1064\n",
       "5                             1944           576   549          819\n",
       "6                             2376          1375  1001            0"
      ]
     },
     "execution_count": 417,
     "metadata": {},
     "output_type": "execute_result"
    }
   ],
   "source": [
    "permutations_df.set_index('Highest Defense Roll').sort_index()"
   ]
  },
  {
   "cell_type": "markdown",
   "id": "dcedf387",
   "metadata": {},
   "source": [
    "##### Calculate joint probabilities of attack and defense maxima"
   ]
  },
  {
   "cell_type": "code",
   "execution_count": 519,
   "id": "6b9abdc0",
   "metadata": {},
   "outputs": [],
   "source": [
    "permutations_all_df = pd.DataFrame(columns = ['Highest Roll', 1,2,3,4,5,6])\n",
    "for highest_defense_roll in range(1,7):\n",
    "    row = [highest_defense_roll]\n",
    "    for highest_attack_roll in range(1,7):\n",
    "        row.append(arr[:,np.where((np.max(arr[3:],axis=0)==highest_defense_roll) & (np.max(arr[:3],axis=0)==highest_attack_roll))][:,0,:].shape[1])\n",
    "    permutations_all_df.loc[-1] = row\n",
    "    permutations_all_df.index = permutations_all_df.index + 1"
   ]
  },
  {
   "cell_type": "code",
   "execution_count": 520,
   "id": "a6dea21d",
   "metadata": {},
   "outputs": [
    {
     "data": {
      "text/html": [
       "<div>\n",
       "<style scoped>\n",
       "    .dataframe tbody tr th:only-of-type {\n",
       "        vertical-align: middle;\n",
       "    }\n",
       "\n",
       "    .dataframe tbody tr th {\n",
       "        vertical-align: top;\n",
       "    }\n",
       "\n",
       "    .dataframe thead th {\n",
       "        text-align: right;\n",
       "    }\n",
       "</style>\n",
       "<table border=\"1\" class=\"dataframe\">\n",
       "  <thead>\n",
       "    <tr style=\"text-align: right;\">\n",
       "      <th></th>\n",
       "      <th>1</th>\n",
       "      <th>2</th>\n",
       "      <th>3</th>\n",
       "      <th>4</th>\n",
       "      <th>5</th>\n",
       "      <th>6</th>\n",
       "    </tr>\n",
       "    <tr>\n",
       "      <th>Highest Roll</th>\n",
       "      <th></th>\n",
       "      <th></th>\n",
       "      <th></th>\n",
       "      <th></th>\n",
       "      <th></th>\n",
       "      <th></th>\n",
       "    </tr>\n",
       "  </thead>\n",
       "  <tbody>\n",
       "    <tr>\n",
       "      <th>1</th>\n",
       "      <td>0.01%</td>\n",
       "      <td>0.09%</td>\n",
       "      <td>0.24%</td>\n",
       "      <td>0.48%</td>\n",
       "      <td>0.78%</td>\n",
       "      <td>1.17%</td>\n",
       "    </tr>\n",
       "    <tr>\n",
       "      <th>2</th>\n",
       "      <td>0.04%</td>\n",
       "      <td>0.27%</td>\n",
       "      <td>0.73%</td>\n",
       "      <td>1.43%</td>\n",
       "      <td>2.35%</td>\n",
       "      <td>3.51%</td>\n",
       "    </tr>\n",
       "    <tr>\n",
       "      <th>3</th>\n",
       "      <td>0.06%</td>\n",
       "      <td>0.45%</td>\n",
       "      <td>1.22%</td>\n",
       "      <td>2.38%</td>\n",
       "      <td>3.92%</td>\n",
       "      <td>5.85%</td>\n",
       "    </tr>\n",
       "    <tr>\n",
       "      <th>4</th>\n",
       "      <td>0.09%</td>\n",
       "      <td>0.63%</td>\n",
       "      <td>1.71%</td>\n",
       "      <td>3.33%</td>\n",
       "      <td>5.49%</td>\n",
       "      <td>8.19%</td>\n",
       "    </tr>\n",
       "    <tr>\n",
       "      <th>5</th>\n",
       "      <td>0.12%</td>\n",
       "      <td>0.81%</td>\n",
       "      <td>2.20%</td>\n",
       "      <td>4.28%</td>\n",
       "      <td>7.06%</td>\n",
       "      <td>10.53%</td>\n",
       "    </tr>\n",
       "    <tr>\n",
       "      <th>6</th>\n",
       "      <td>0.14%</td>\n",
       "      <td>0.99%</td>\n",
       "      <td>2.69%</td>\n",
       "      <td>5.23%</td>\n",
       "      <td>8.63%</td>\n",
       "      <td>12.87%</td>\n",
       "    </tr>\n",
       "  </tbody>\n",
       "</table>\n",
       "</div>"
      ],
      "text/plain": [
       "                 1     2     3     4     5      6\n",
       "Highest Roll                                     \n",
       "1            0.01% 0.09% 0.24% 0.48% 0.78%  1.17%\n",
       "2            0.04% 0.27% 0.73% 1.43% 2.35%  3.51%\n",
       "3            0.06% 0.45% 1.22% 2.38% 3.92%  5.85%\n",
       "4            0.09% 0.63% 1.71% 3.33% 5.49%  8.19%\n",
       "5            0.12% 0.81% 2.20% 4.28% 7.06% 10.53%\n",
       "6            0.14% 0.99% 2.69% 5.23% 8.63% 12.87%"
      ]
     },
     "execution_count": 520,
     "metadata": {},
     "output_type": "execute_result"
    }
   ],
   "source": [
    "pd.options.display.float_format = '{:.2%}'.format\n",
    "permutations_all_df.set_index('Highest Roll').sort_index()/7776"
   ]
  },
  {
   "cell_type": "markdown",
   "id": "1750417c",
   "metadata": {},
   "source": [
    "### Soldier 2"
   ]
  },
  {
   "cell_type": "markdown",
   "id": "081ece67",
   "metadata": {},
   "source": [
    "##### Count permutations of defense and attack second highest"
   ]
  },
  {
   "cell_type": "code",
   "execution_count": 387,
   "id": "23e960d4",
   "metadata": {},
   "outputs": [],
   "source": [
    "attack_2nd = pd.Series(np.partition(arr[:3], axis=0,kth=1)[1]).value_counts().sort_index()\n",
    "defense_2nd = pd.Series(np.partition(arr[3:], axis=0,kth=1)[1]).value_counts().sort_index()"
   ]
  },
  {
   "cell_type": "code",
   "execution_count": 521,
   "id": "89f19e0a",
   "metadata": {},
   "outputs": [
    {
     "data": {
      "text/html": [
       "<div>\n",
       "<style scoped>\n",
       "    .dataframe tbody tr th:only-of-type {\n",
       "        vertical-align: middle;\n",
       "    }\n",
       "\n",
       "    .dataframe tbody tr th {\n",
       "        vertical-align: top;\n",
       "    }\n",
       "\n",
       "    .dataframe thead th {\n",
       "        text-align: right;\n",
       "    }\n",
       "</style>\n",
       "<table border=\"1\" class=\"dataframe\">\n",
       "  <thead>\n",
       "    <tr style=\"text-align: right;\">\n",
       "      <th></th>\n",
       "      <th>Defense Probability</th>\n",
       "      <th>Attack Probability</th>\n",
       "    </tr>\n",
       "    <tr>\n",
       "      <th>2nd Highest Roll</th>\n",
       "      <th></th>\n",
       "      <th></th>\n",
       "    </tr>\n",
       "  </thead>\n",
       "  <tbody>\n",
       "    <tr>\n",
       "      <th>1</th>\n",
       "      <td>2.8%</td>\n",
       "      <td>7.4%</td>\n",
       "    </tr>\n",
       "    <tr>\n",
       "      <th>2</th>\n",
       "      <td>8.3%</td>\n",
       "      <td>18.5%</td>\n",
       "    </tr>\n",
       "    <tr>\n",
       "      <th>3</th>\n",
       "      <td>13.9%</td>\n",
       "      <td>24.1%</td>\n",
       "    </tr>\n",
       "    <tr>\n",
       "      <th>4</th>\n",
       "      <td>19.4%</td>\n",
       "      <td>24.1%</td>\n",
       "    </tr>\n",
       "    <tr>\n",
       "      <th>5</th>\n",
       "      <td>25.0%</td>\n",
       "      <td>18.5%</td>\n",
       "    </tr>\n",
       "    <tr>\n",
       "      <th>6</th>\n",
       "      <td>30.6%</td>\n",
       "      <td>7.4%</td>\n",
       "    </tr>\n",
       "  </tbody>\n",
       "</table>\n",
       "</div>"
      ],
      "text/plain": [
       "                  Defense Probability  Attack Probability\n",
       "2nd Highest Roll                                         \n",
       "1                                2.8%                7.4%\n",
       "2                                8.3%               18.5%\n",
       "3                               13.9%               24.1%\n",
       "4                               19.4%               24.1%\n",
       "5                               25.0%               18.5%\n",
       "6                               30.6%                7.4%"
      ]
     },
     "execution_count": 521,
     "metadata": {},
     "output_type": "execute_result"
    }
   ],
   "source": [
    "sec_probability_df = pd.DataFrame(defense_2nd.rename('Defense Probability')/sum(defense_2nd))\n",
    "sec_probability_df.index.name = '2nd Highest Roll'\n",
    "\n",
    "\n",
    "sec_probability_df['Attack Probability'] = attack_2nd/sum(attack_2nd)\n",
    "pd.options.display.float_format = '{:.1%}'.format\n",
    "sec_probability_df"
   ]
  },
  {
   "cell_type": "markdown",
   "id": "867539a3",
   "metadata": {},
   "source": [
    "##### Count number of defense wins, ties and attack wins for each possible 2nd defense roll"
   ]
  },
  {
   "cell_type": "code",
   "execution_count": 471,
   "id": "8f98e065",
   "metadata": {},
   "outputs": [],
   "source": [
    "sec_permutations_df = pd.DataFrame(columns = ['2nd Highest Defense Roll', 'Permutations', 'Defense Wins', 'Ties', 'Attack Wins'])\n",
    "\n",
    "for high_roll in range(1,7):\n",
    "    row = []\n",
    "    row.append(high_roll)\n",
    "    #permutations\n",
    "    row.append(arr[:,np.where(np.partition(arr[3:], axis=0,kth=-2)[-2]==high_roll)][:,0,:].shape[1])\n",
    "    #defense\n",
    "    row.append(np.sum(np.partition(arr[:,np.where(np.partition(arr[3:], axis=0,kth=-2)[-2]==high_roll)][:,0,:][:3], axis=0, kth=-2)[-2] < high_roll))\n",
    "    #tie\n",
    "    row.append(np.sum(np.partition(arr[:,np.where(np.partition(arr[3:], axis=0,kth=-2)[-2]==high_roll)][:,0,:][:3], axis=0, kth=-2)[-2] == high_roll))\n",
    "    #attack\n",
    "    row.append(np.sum(np.partition(arr[:,np.where(np.partition(arr[3:], axis=0,kth=-2)[-2]==high_roll)][:,0,:][:3], axis=0, kth=-2)[-2] > high_roll))\n",
    "    sec_permutations_df.loc[-1] = row\n",
    "    sec_permutations_df.index = sec_permutations_df.index + 1"
   ]
  },
  {
   "cell_type": "code",
   "execution_count": 472,
   "id": "e89cc607",
   "metadata": {},
   "outputs": [
    {
     "data": {
      "text/html": [
       "<div>\n",
       "<style scoped>\n",
       "    .dataframe tbody tr th:only-of-type {\n",
       "        vertical-align: middle;\n",
       "    }\n",
       "\n",
       "    .dataframe tbody tr th {\n",
       "        vertical-align: top;\n",
       "    }\n",
       "\n",
       "    .dataframe thead th {\n",
       "        text-align: right;\n",
       "    }\n",
       "</style>\n",
       "<table border=\"1\" class=\"dataframe\">\n",
       "  <thead>\n",
       "    <tr style=\"text-align: right;\">\n",
       "      <th></th>\n",
       "      <th>2nd Highest Defense Roll</th>\n",
       "      <th>Permutations</th>\n",
       "      <th>Defense Wins</th>\n",
       "      <th>Ties</th>\n",
       "      <th>Attack Wins</th>\n",
       "    </tr>\n",
       "  </thead>\n",
       "  <tbody>\n",
       "    <tr>\n",
       "      <th>5</th>\n",
       "      <td>1</td>\n",
       "      <td>2376</td>\n",
       "      <td>0</td>\n",
       "      <td>176</td>\n",
       "      <td>2200</td>\n",
       "    </tr>\n",
       "    <tr>\n",
       "      <th>4</th>\n",
       "      <td>2</td>\n",
       "      <td>1944</td>\n",
       "      <td>144</td>\n",
       "      <td>360</td>\n",
       "      <td>1440</td>\n",
       "    </tr>\n",
       "    <tr>\n",
       "      <th>3</th>\n",
       "      <td>3</td>\n",
       "      <td>1512</td>\n",
       "      <td>392</td>\n",
       "      <td>364</td>\n",
       "      <td>756</td>\n",
       "    </tr>\n",
       "    <tr>\n",
       "      <th>2</th>\n",
       "      <td>4</td>\n",
       "      <td>1080</td>\n",
       "      <td>540</td>\n",
       "      <td>260</td>\n",
       "      <td>280</td>\n",
       "    </tr>\n",
       "    <tr>\n",
       "      <th>1</th>\n",
       "      <td>5</td>\n",
       "      <td>648</td>\n",
       "      <td>480</td>\n",
       "      <td>120</td>\n",
       "      <td>48</td>\n",
       "    </tr>\n",
       "    <tr>\n",
       "      <th>0</th>\n",
       "      <td>6</td>\n",
       "      <td>216</td>\n",
       "      <td>200</td>\n",
       "      <td>16</td>\n",
       "      <td>0</td>\n",
       "    </tr>\n",
       "  </tbody>\n",
       "</table>\n",
       "</div>"
      ],
      "text/plain": [
       "   2nd Highest Defense Roll  Permutations  Defense Wins  Ties  Attack Wins\n",
       "5                         1          2376             0   176         2200\n",
       "4                         2          1944           144   360         1440\n",
       "3                         3          1512           392   364          756\n",
       "2                         4          1080           540   260          280\n",
       "1                         5           648           480   120           48\n",
       "0                         6           216           200    16            0"
      ]
     },
     "execution_count": 472,
     "metadata": {},
     "output_type": "execute_result"
    }
   ],
   "source": [
    "sec_permutations_df"
   ]
  },
  {
   "cell_type": "markdown",
   "id": "0f99124d",
   "metadata": {},
   "source": [
    "##### Calculate joint probabilities of attack and defense second highest"
   ]
  },
  {
   "cell_type": "code",
   "execution_count": 512,
   "id": "df1088f4",
   "metadata": {},
   "outputs": [],
   "source": [
    "sec_permutations_all_df = pd.DataFrame(columns = ['2nd Highest Roll', 1,2,3,4,5,6])\n",
    "for highest_defense_roll in range(1,7):\n",
    "    row = [highest_defense_roll]\n",
    "    for highest_attack_roll in range(1,7):\n",
    "        row.append(arr[:,np.where((np.partition(arr[3:], axis=0,kth=-2)[-2]==highest_defense_roll) & (np.partition(arr[:3], axis=0,kth=-2)[-2]==highest_attack_roll))][:,0,:].shape[1])\n",
    "    sec_permutations_all_df.loc[-1] = row\n",
    "    sec_permutations_all_df.index = sec_permutations_all_df.index + 1"
   ]
  },
  {
   "cell_type": "code",
   "execution_count": 513,
   "id": "98a0674f",
   "metadata": {},
   "outputs": [
    {
     "data": {
      "text/html": [
       "<div>\n",
       "<style scoped>\n",
       "    .dataframe tbody tr th:only-of-type {\n",
       "        vertical-align: middle;\n",
       "    }\n",
       "\n",
       "    .dataframe tbody tr th {\n",
       "        vertical-align: top;\n",
       "    }\n",
       "\n",
       "    .dataframe thead th {\n",
       "        text-align: right;\n",
       "    }\n",
       "</style>\n",
       "<table border=\"1\" class=\"dataframe\">\n",
       "  <thead>\n",
       "    <tr style=\"text-align: right;\">\n",
       "      <th></th>\n",
       "      <th>2nd Highest Roll</th>\n",
       "      <th>1</th>\n",
       "      <th>2</th>\n",
       "      <th>3</th>\n",
       "      <th>4</th>\n",
       "      <th>5</th>\n",
       "      <th>6</th>\n",
       "    </tr>\n",
       "  </thead>\n",
       "  <tbody>\n",
       "    <tr>\n",
       "      <th>5</th>\n",
       "      <td>0.01%</td>\n",
       "      <td>2.26%</td>\n",
       "      <td>5.66%</td>\n",
       "      <td>7.36%</td>\n",
       "      <td>7.36%</td>\n",
       "      <td>5.66%</td>\n",
       "      <td>2.26%</td>\n",
       "    </tr>\n",
       "    <tr>\n",
       "      <th>4</th>\n",
       "      <td>0.03%</td>\n",
       "      <td>1.85%</td>\n",
       "      <td>4.63%</td>\n",
       "      <td>6.02%</td>\n",
       "      <td>6.02%</td>\n",
       "      <td>4.63%</td>\n",
       "      <td>1.85%</td>\n",
       "    </tr>\n",
       "    <tr>\n",
       "      <th>3</th>\n",
       "      <td>0.04%</td>\n",
       "      <td>1.44%</td>\n",
       "      <td>3.60%</td>\n",
       "      <td>4.68%</td>\n",
       "      <td>4.68%</td>\n",
       "      <td>3.60%</td>\n",
       "      <td>1.44%</td>\n",
       "    </tr>\n",
       "    <tr>\n",
       "      <th>2</th>\n",
       "      <td>0.05%</td>\n",
       "      <td>1.03%</td>\n",
       "      <td>2.57%</td>\n",
       "      <td>3.34%</td>\n",
       "      <td>3.34%</td>\n",
       "      <td>2.57%</td>\n",
       "      <td>1.03%</td>\n",
       "    </tr>\n",
       "    <tr>\n",
       "      <th>1</th>\n",
       "      <td>0.06%</td>\n",
       "      <td>0.62%</td>\n",
       "      <td>1.54%</td>\n",
       "      <td>2.01%</td>\n",
       "      <td>2.01%</td>\n",
       "      <td>1.54%</td>\n",
       "      <td>0.62%</td>\n",
       "    </tr>\n",
       "    <tr>\n",
       "      <th>0</th>\n",
       "      <td>0.08%</td>\n",
       "      <td>0.21%</td>\n",
       "      <td>0.51%</td>\n",
       "      <td>0.67%</td>\n",
       "      <td>0.67%</td>\n",
       "      <td>0.51%</td>\n",
       "      <td>0.21%</td>\n",
       "    </tr>\n",
       "  </tbody>\n",
       "</table>\n",
       "</div>"
      ],
      "text/plain": [
       "   2nd Highest Roll     1     2     3     4     5     6\n",
       "5             0.01% 2.26% 5.66% 7.36% 7.36% 5.66% 2.26%\n",
       "4             0.03% 1.85% 4.63% 6.02% 6.02% 4.63% 1.85%\n",
       "3             0.04% 1.44% 3.60% 4.68% 4.68% 3.60% 1.44%\n",
       "2             0.05% 1.03% 2.57% 3.34% 3.34% 2.57% 1.03%\n",
       "1             0.06% 0.62% 1.54% 2.01% 2.01% 1.54% 0.62%\n",
       "0             0.08% 0.21% 0.51% 0.67% 0.67% 0.51% 0.21%"
      ]
     },
     "execution_count": 513,
     "metadata": {},
     "output_type": "execute_result"
    }
   ],
   "source": [
    "pd.options.display.float_format = '{:.2%}'.format\n",
    "sec_permutations_all_df/7776"
   ]
  },
  {
   "cell_type": "markdown",
   "id": "b2761476",
   "metadata": {},
   "source": [
    "### Both Soldiers Together"
   ]
  },
  {
   "cell_type": "markdown",
   "id": "7b950d98",
   "metadata": {},
   "source": [
    "##### Define function to check each permutation to determine for both soldiers"
   ]
  },
  {
   "cell_type": "code",
   "execution_count": null,
   "id": "e3a99265",
   "metadata": {},
   "outputs": [],
   "source": [
    "def check_both(result, attack_dice=3):\n",
    "    \"\"\"\n",
    "    Given a result of multiple dice, and a number of attack dice, determine whether the attack will win both soldiers,\n",
    "    the defense will both soldiers, or each will win a soldier.\n",
    "\n",
    "    :param result: array of dice results, where the attack dice are declared first\n",
    "    :param attack_dice: number of dice which represent the attack dice\n",
    "    :return:\n",
    "    \"\"\"\n",
    "    if np.partition(result[:attack_dice], -1)[-1] > np.partition(result[attack_dice:], -1)[-1] and \\\n",
    "            np.partition(result[:attack_dice], -2)[-2] > np.partition(result[attack_dice:], -2)[-2]:\n",
    "        return 'attack_both'\n",
    "    elif np.partition(result[:attack_dice], -1)[-1] > np.partition(result[attack_dice:], -1)[-1] or \\\n",
    "            np.partition(result[:attack_dice], -2)[-2] > np.partition(result[attack_dice:], -2)[-2]:\n",
    "        return 'one_one'\n",
    "    else:\n",
    "        return 'defense_both'"
   ]
  },
  {
   "cell_type": "markdown",
   "id": "bedd6b6a",
   "metadata": {},
   "source": [
    "##### Calculate probabilities of attack winning both soldiers, of defense winning both soldiers and of each winning one"
   ]
  },
  {
   "cell_type": "code",
   "execution_count": 511,
   "id": "cf084346",
   "metadata": {},
   "outputs": [
    {
     "data": {
      "text/html": [
       "<div>\n",
       "<style scoped>\n",
       "    .dataframe tbody tr th:only-of-type {\n",
       "        vertical-align: middle;\n",
       "    }\n",
       "\n",
       "    .dataframe tbody tr th {\n",
       "        vertical-align: top;\n",
       "    }\n",
       "\n",
       "    .dataframe thead th {\n",
       "        text-align: right;\n",
       "    }\n",
       "</style>\n",
       "<table border=\"1\" class=\"dataframe\">\n",
       "  <thead>\n",
       "    <tr style=\"text-align: right;\">\n",
       "      <th></th>\n",
       "      <th>Probability</th>\n",
       "    </tr>\n",
       "  </thead>\n",
       "  <tbody>\n",
       "    <tr>\n",
       "      <th>attack_both</th>\n",
       "      <td>37.17%</td>\n",
       "    </tr>\n",
       "    <tr>\n",
       "      <th>one_one</th>\n",
       "      <td>33.58%</td>\n",
       "    </tr>\n",
       "    <tr>\n",
       "      <th>defense_both</th>\n",
       "      <td>29.26%</td>\n",
       "    </tr>\n",
       "  </tbody>\n",
       "</table>\n",
       "</div>"
      ],
      "text/plain": [
       "              Probability\n",
       "attack_both        37.17%\n",
       "one_one            33.58%\n",
       "defense_both       29.26%"
      ]
     },
     "execution_count": 511,
     "metadata": {},
     "output_type": "execute_result"
    }
   ],
   "source": [
    "# produce array of all possible permutations of 5 dice\n",
    "arr = np.array(list(product([1, 2, 3, 4, 5, 6], [1, 2, 3, 4, 5, 6], [1, 2, 3, 4, 5, 6], [1, 2, 3, 4, 5, 6],\n",
    "                            [1, 2, 3, 4, 5, 6]))).transpose()\n",
    "\n",
    "# calculate and print counts of various result types\n",
    "df = pd.DataFrame(pd.Series(np.apply_along_axis(check_both, axis=0, arr=arr)).value_counts()/7776)\n",
    "df.columns = ['Probability']\n",
    "df"
   ]
  }
 ],
 "metadata": {
  "kernelspec": {
   "display_name": "Python 3 (ipykernel)",
   "language": "python",
   "name": "python3"
  },
  "language_info": {
   "codemirror_mode": {
    "name": "ipython",
    "version": 3
   },
   "file_extension": ".py",
   "mimetype": "text/x-python",
   "name": "python",
   "nbconvert_exporter": "python",
   "pygments_lexer": "ipython3",
   "version": "3.11.5"
  }
 },
 "nbformat": 4,
 "nbformat_minor": 5
}
